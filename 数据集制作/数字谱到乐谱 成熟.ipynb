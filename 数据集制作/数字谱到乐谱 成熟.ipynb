{
 "cells": [
  {
   "cell_type": "code",
   "execution_count": 1,
   "metadata": {},
   "outputs": [],
   "source": [
    "from music21 import *\n",
    "environment.Environment()['musicxmlPath'] = r'D:\\Program Files\\MuseScore 3\\bin\\MuseScore3.exe'\n",
    "environment.Environment()['musescoreDirectPNGPath'] = r'D:\\Program Files\\MuseScore 3\\bin\\MuseScore3.exe'"
   ]
  },
  {
   "cell_type": "markdown",
   "metadata": {},
   "source": [
    "### 首先创建 简谱-规则\n",
    "因为手里的谱子是简谱，因此需要创建一个从简谱到音名的一一对应规则\n",
    "- 长音：1-\n",
    "- 下加线：<1>\n",
    "- 延长半音：1.\n",
    "- 小节线：|\n",
    "- 低音：(1)\n",
    "- 高音：[1]\n",
    "- 升音：1#\n",
    "- 降音：1b\n",
    "\n",
    "在此基础上定义“音符类”，用来将数字简谱中的每个音所对应的时值、音高、升降等信息记录下来："
   ]
  },
  {
   "cell_type": "code",
   "execution_count": 2,
   "metadata": {},
   "outputs": [],
   "source": [
    "PitchClass = ['C','D','E','F','G','A','B']\n",
    "TypeClass = ['64th','32nd','16th','eighth','quarter','half','whole']   \n",
    "class StrNote:\n",
    "    '''\n",
    "     对音符的字符串信息进行保存\n",
    "     分别存储pitch，octave ,accidental，并最终拼接起来\n",
    "    '''\n",
    "    def __init__(self):\n",
    "        '''\n",
    "            默认简谱中的do是C5\n",
    "            因此是pitch下标为0\n",
    "            中音的八度octave是第五个\n",
    "            没有升降号accidental \n",
    "            默认是四分之一音符4\n",
    "            默认没有附点\n",
    "        '''\n",
    "        self.pitch = 0\n",
    "        self.octave = 5\n",
    "        self.accidental = ''\n",
    "        self.type = 4\n",
    "        self.dot = 0\n",
    "        \n",
    "    def __init__(self,pitch):\n",
    "        '''\n",
    "          有参构造\n",
    "        '''\n",
    "        self.pitch = pitch-1\n",
    "        self.octave = 5\n",
    "        self.accidental = ''\n",
    "        self.type = 4\n",
    "        self.dot = 0\n",
    "            \n",
    "    def __add__(self, y):\n",
    "        '音调pitch加一位'\n",
    "        self.pitch = (self.pitch+y)%7\n",
    "        return self\n",
    "        \n",
    "    def __sub__(self,y):\n",
    "        '音调pitch减一位'\n",
    "        self.pitch = (self.pitch+7-y)%7\n",
    "        return self\n",
    "    \n",
    "    def setflat(self):\n",
    "        '降音'\n",
    "        self.accidental = 'b'\n",
    "    \n",
    "    def setsharp(self):\n",
    "        '升音'\n",
    "        self.accidental = '#'\n",
    "    \n",
    "    def setnormal(self):\n",
    "        '变成普通音'\n",
    "        self.accidental = ''\n",
    "        \n",
    "    def higher(self):\n",
    "        '提高一个八度'\n",
    "        self.octave += 1 \n",
    "        \n",
    "    def lower(self):\n",
    "        '降低一个八度'\n",
    "        self.octave -= 1 \n",
    "    \n",
    "    def longer(self):\n",
    "        '时间加长'\n",
    "        if self.type == 5 and self.dot == 0:\n",
    "            self.dot = 1\n",
    "        else:\n",
    "            self.type += 1\n",
    "            \n",
    "    def shotter(self):\n",
    "        '时间减短'\n",
    "        self.type -= 1\n",
    "    \n",
    "    def adddot(self):\n",
    "        '添加附点'\n",
    "        self.dot += 1\n",
    "        \n",
    "    def getstr(self):\n",
    "        '返回这个音的字符串'\n",
    "        return str(PitchClass[self.pitch]) + str(self.octave) + str(self.accidental)\n",
    "        \n",
    "    \n",
    "    def getnote(self):\n",
    "        if self.pitch == -1:\n",
    "            stopnote = note.Rest(1)\n",
    "            stopnote.duration.type = TypeClass[self.type]\n",
    "            stopnote.duration.dots = self.dot\n",
    "            return stopnote\n",
    "        '返回音符对象'\n",
    "        thisnote = note.Note(str(PitchClass[self.pitch]) + str(self.octave) + str(self.accidental))\n",
    "        thisnote.duration.type = TypeClass[self.type]\n",
    "        thisnote.duration.dots = self.dot\n",
    "        return thisnote\n",
    " \n",
    "'''判断是数字还是符号'''\n",
    "def isnum(input):\n",
    "    try:\n",
    "        int(input)\n",
    "        return True\n",
    "    except:\n",
    "        return False"
   ]
  },
  {
   "cell_type": "markdown",
   "metadata": {},
   "source": [
    "定义字符串->乐谱的函数，用来将字符串转换成乐谱"
   ]
  },
  {
   "cell_type": "code",
   "execution_count": 3,
   "metadata": {},
   "outputs": [],
   "source": [
    "'''\n",
    "Summay:\n",
    "    将字符串简谱转换成音乐流\n",
    "Parameters:\n",
    "    music_str - 简谱字符串  str\n",
    "    play_it - 是否播放      bool\n",
    "Return：\n",
    "    s - Music21格式的音乐流 stream\n",
    "'''\n",
    "def str2stream(music_str,play_it = True):\n",
    "    out_put = open('out.txt','w')\n",
    "    notelist = []\n",
    "    s = stream.Score(id='mainScore')\n",
    "    '''\n",
    "    lowerflag  -  低音标志()\n",
    "    higherflag -  高音标志[]\n",
    "    shotterflag - 短时标志<>\n",
    "    longgerflag - 长时标志--\n",
    "    \n",
    "    '''\n",
    "    lowerflag = False\n",
    "    higherflag = False\n",
    "    sharpflag = False\n",
    "    shotterflag = 0\n",
    "    measurenum = 1\n",
    "    for each in music_str:\n",
    "        #print(each)\n",
    "        if isnum(each):\n",
    "            midnote = StrNote(int(each))\n",
    "            if lowerflag == True:\n",
    "                midnote.lower()\n",
    "            if higherflag == True:\n",
    "                midnote.higher()\n",
    "            if shotterflag != 0:\n",
    "                for i in range(shotterflag):\n",
    "                    midnote.shotter()\n",
    "            if sharpflag == True:\n",
    "                midnote.setsharp()\n",
    "                #print(midnote)\n",
    "                sharpflag = False\n",
    "            notelist.append(midnote)\n",
    "        else:\n",
    "            if each == '(':\n",
    "                lowerflag = True\n",
    "            elif each == ')':\n",
    "                lowerflag = False\n",
    "            elif each == '[':\n",
    "                higherflag = True \n",
    "            elif each == ']':\n",
    "                higherflag = False \n",
    "            elif each == '<':\n",
    "                shotterflag += 1 \n",
    "            elif each == '>':\n",
    "                shotterflag -= 1\n",
    "            elif each == '.':\n",
    "                notelist[len(notelist)-1].adddot()\n",
    "            elif each == '-':\n",
    "                notelist[len(notelist)-1].longer()\n",
    "            elif each == '#':\n",
    "                #sharpflag = True\n",
    "                notelist[len(notelist)-1].setsharp()\n",
    "            elif each == 'b':\n",
    "                notelist[len(notelist)-1].setflat()\n",
    "            elif each == '|':\n",
    "                midstream = stream.Measure(number=measurenum)\n",
    "                measurenum+=1\n",
    "                for eachnote in notelist:\n",
    "                    out_put.write(eachnote.getstr()+'\\n')\n",
    "                    midstream.append(eachnote.getnote())\n",
    "                \n",
    "                s.append(midstream)\n",
    "                notelist.clear()\n",
    "            else:\n",
    "                continue\n",
    "    \n",
    "    if len(notelist)!= 0:\n",
    "        midstream = stream.Measure(number=measurenum)\n",
    "        for eachnote in notelist:\n",
    "            out_put.write(eachnote.getstr()+'\\n')\n",
    "            midstream.append(eachnote.getnote())\n",
    "        s.append(midstream)\n",
    "\n",
    "        notelist.clear()\n",
    "    if play_it == True:play(s)\n",
    "    out_put.close()\n",
    "    return s\n",
    "\n",
    "\n",
    "def str2tone(music_str):\n",
    "    out_put = open('out.txt','w')\n",
    "    notelist = []\n",
    "    s = stream.Score(id='mainScore')\n",
    "    '''\n",
    "    lowerflag  -  低音标志()\n",
    "    higherflag -  高音标志[]\n",
    "    shotterflag - 短时标志<>\n",
    "    longgerflag - 长时标志--\n",
    "    \n",
    "    '''\n",
    "    lowerflag = False\n",
    "    higherflag = False\n",
    "    sharpflag = False\n",
    "    shotterflag = 0\n",
    "    measurenum = 1\n",
    "    for each in music_str:\n",
    "        #print(each)\n",
    "        if isnum(each):\n",
    "            midnote = StrNote(int(each))\n",
    "            if lowerflag == True:\n",
    "                midnote.lower()\n",
    "            if higherflag == True:\n",
    "                midnote.higher()\n",
    "            if shotterflag != 0:\n",
    "                for i in range(shotterflag):\n",
    "                    midnote.shotter()\n",
    "            if sharpflag == True:\n",
    "                midnote.setsharp()\n",
    "                #print(midnote)\n",
    "                sharpflag = False\n",
    "            notelist.append(midnote)\n",
    "        else:\n",
    "            if each == '(':\n",
    "                lowerflag = True\n",
    "            elif each == ')':\n",
    "                lowerflag = False\n",
    "            elif each == '[':\n",
    "                higherflag = True \n",
    "            elif each == ']':\n",
    "                higherflag = False \n",
    "            elif each == '<':\n",
    "                shotterflag += 1 \n",
    "            elif each == '>':\n",
    "                shotterflag -= 1\n",
    "            elif each == '.':\n",
    "                notelist[len(notelist)-1].adddot()\n",
    "            elif each == '-':\n",
    "                notelist[len(notelist)-1].longer()\n",
    "            elif each == '#':\n",
    "                #sharpflag = True\n",
    "                notelist[len(notelist)-1].setsharp()\n",
    "            elif each == 'b':\n",
    "                notelist[len(notelist)-1].setflat()\n",
    "    \n",
    "    return notelist[0].getstr()"
   ]
  },
  {
   "cell_type": "markdown",
   "metadata": {},
   "source": [
    "在return s之前有一个魔法函数play(将会在下面定义)，他的作用是阻止一个bug的发生，就像下面这样："
   ]
  },
  {
   "cell_type": "code",
   "execution_count": 7,
   "metadata": {},
   "outputs": [
    {
     "data": {
      "text/plain": [
       "'B5#'"
      ]
     },
     "execution_count": 7,
     "metadata": {},
     "output_type": "execute_result"
    }
   ],
   "source": []
  },
  {
   "cell_type": "code",
   "execution_count": 4,
   "metadata": {},
   "outputs": [
    {
     "data": {
      "image/png": "[encoded data removed]",
      "text/plain": [
       "<IPython.core.display.Image object>"
      ]
     },
     "metadata": {
      "image/png": {
       "height": 56,
       "width": 239
      }
     },
     "output_type": "display_data"
    },
    {
     "data": {
      "text/html": [
       "\n",
       "                <div id='midiPlayerDiv57'></div>\n",
       "                <link rel=\"stylesheet\" href=\"//cuthbertLab.github.io/music21j/css/m21.css\"\n",
       "                    type=\"text/css\" />\n",
       "                <script>\n",
       "                require.config({\n",
       "                    paths: {'music21': '//cuthbertLab.github.io/music21j/src/music21'}\n",
       "                });\n",
       "                require(['music21'], function() {\n",
       "                               mp = new music21.miditools.MidiPlayer();\n",
       "                               mp.addPlayer('#midiPlayerDiv57');\n",
       "                               mp.base64Load('data:audio/midi;base64,TVRoZAAAAAYAAQABBABNVHJrAAAAKAD/AwAA4ABAAJBJWpAAgEkAAJA8WogAgDwAAJA8WoQAgDwAiAD/LwA=');\n",
       "                        });\n",
       "                </script>"
      ],
      "text/plain": [
       "<IPython.core.display.HTML object>"
      ]
     },
     "metadata": {},
     "output_type": "display_data"
    }
   ],
   "source": [
    "s = stream.Score(id='mainScore')\n",
    "m = stream.Measure(number=1)\n",
    "m.append(note.Note('C5#', type=\"half\"))\n",
    "m.append(note.Note('C', type=\"quarter\"))\n",
    "m.append(note.Note('C', type=\"eighth\"))\n",
    "s.append(m)\n",
    "s.show()\n",
    "s.show('midi')"
   ]
  },
  {
   "cell_type": "markdown",
   "metadata": {},
   "source": [
    "可以听出来，刚才这段音频只播放了后面两个音，而用了魔法函数就能解决这个问题(我也不知道为什么)"
   ]
  },
  {
   "cell_type": "code",
   "execution_count": 5,
   "metadata": {},
   "outputs": [
    {
     "data": {
      "image/png": "[encoded data removed]",
      "text/plain": [
       "<IPython.core.display.Image object>"
      ]
     },
     "metadata": {
      "image/png": {
       "height": 56,
       "width": 252
      }
     },
     "output_type": "display_data"
    },
    {
     "data": {
      "text/html": [
       "\n",
       "                <div id='midiPlayerDiv111'></div>\n",
       "                <link rel=\"stylesheet\" href=\"//cuthbertLab.github.io/music21j/css/m21.css\"\n",
       "                    type=\"text/css\" />\n",
       "                <script>\n",
       "                require.config({\n",
       "                    paths: {'music21': '//cuthbertLab.github.io/music21j/src/music21'}\n",
       "                });\n",
       "                require(['music21'], function() {\n",
       "                               mp = new music21.miditools.MidiPlayer();\n",
       "                               mp.addPlayer('#midiPlayerDiv111');\n",
       "                               mp.base64Load('data:audio/midi;base64,TVRoZAAAAAYAAQABBABNVHJrAAAAKQD/AwAA4ABAiACQSVqQAIBJAACQPFqIAIA8AACQPFqEAIA8AIgA/y8A');\n",
       "                        });\n",
       "                </script>"
      ],
      "text/plain": [
       "<IPython.core.display.HTML object>"
      ]
     },
     "metadata": {},
     "output_type": "display_data"
    }
   ],
   "source": [
    "'''\n",
    "Summay:\n",
    "    播放Music21格式的流，显示谱子+播放音乐\n",
    "Parameters:\n",
    "    x - Music21格式的流  stream\n",
    "\n",
    "'''\n",
    "def play(x):\n",
    "    \"\"\"Returns nothing. Outputs a midi realization of x, a note or stream.\n",
    "    Primarily for use in notebooks and web environments.\n",
    "    \"\"\"\n",
    "    if isinstance(x, stream.Stream):\n",
    "        # x = copy.deepcopy(x)\n",
    "        for subStream in x.recurse(streamsOnly=True, includeSelf=True):\n",
    "            mss = subStream.getElementsByClass(stream.Measure)\n",
    "            for ms in mss:\n",
    "                ms.offset += 1.0\n",
    "    if isinstance(x, note.Note):\n",
    "        s = stream.Stream()\n",
    "        s.append(note.Rest(1))\n",
    "        s.append(x)\n",
    "        x = s\n",
    "    x.show()\n",
    "    x.show('midi')\n",
    "play(s)"
   ]
  },
  {
   "cell_type": "markdown",
   "metadata": {},
   "source": [
    "可以听出来，现在音已经全了。\n",
    "### 根据规则写简谱\n",
    "接下来我们要根据规则写简谱，规则如果忘了的话可以再看一遍\n",
    "- 长音：1-\n",
    "- 下加线：<1>\n",
    "- 延长半音：1.\n",
    "- 小节线：|\n",
    "- 低音：(1)\n",
    "- 高音：[1]\n",
    "- 升音：#1\n",
    "- 降音：b1\n",
    "除了<>这个符号是我自己加的以外，剩下的规则都和现在大家用的数字谱一样\n",
    "\n",
    "首先我们生成一段两个小节的音频："
   ]
  },
  {
   "cell_type": "code",
   "execution_count": 20,
   "metadata": {},
   "outputs": [
    {
     "data": {
      "image/png": "[encoded data removed]",
      "text/plain": [
       "<IPython.core.display.Image object>"
      ]
     },
     "metadata": {
      "image/png": {
       "height": 49,
       "width": 748
      }
     },
     "output_type": "display_data"
    },
    {
     "data": {
      "text/html": [
       "\n",
       "                <div id='midiPlayerDiv2586'></div>\n",
       "                <link rel=\"stylesheet\" href=\"//cuthbertLab.github.io/music21j/css/m21.css\"\n",
       "                    type=\"text/css\" />\n",
       "                <script>\n",
       "                require.config({\n",
       "                    paths: {'music21': '//cuthbertLab.github.io/music21j/src/music21'}\n",
       "                });\n",
       "                require(['music21'], function() {\n",
       "                               mp = new music21.miditools.MidiPlayer();\n",
       "                               mp.addPlayer('#midiPlayerDiv2586');\n",
       "                               mp.base64Load('data:audio/midi;base64,TVRoZAAAAAYAAQABBABNVHJrAAAAegD/AwAA4ABAiACQSFqIAIBIAACQSFqIAIBIAACQT1qIAIBPAACQT1qIAIBPAACQSFqIAIBIAACQSFqIAIBIAACQT1qIAIBPAACQT1qIAIBPAACQSFqIAIBIAACQSFqIAIBIAACQT1qIAIBPAACQT1qIAIBPAIgA/y8A');\n",
       "                        });\n",
       "                </script>"
      ],
      "text/plain": [
       "<IPython.core.display.HTML object>"
      ]
     },
     "metadata": {},
     "output_type": "display_data"
    },
    {
     "data": {
      "text/plain": [
       "<music21.stream.Score mainScore>"
      ]
     },
     "execution_count": 20,
     "metadata": {},
     "output_type": "execute_result"
    }
   ],
   "source": [
    "s1 = '11|5511|5511|55'\n",
    "str2stream(s1)"
   ]
  },
  {
   "cell_type": "markdown",
   "metadata": {},
   "source": [
    "如果在55后面加了一个|可能会更加的标准，表示最后一个小节的结束，不过没什么所谓，因为加不加都可以"
   ]
  },
  {
   "cell_type": "code",
   "execution_count": 21,
   "metadata": {},
   "outputs": [
    {
     "data": {
      "image/png": "[encoded data removed]",
      "text/plain": [
       "<IPython.core.display.Image object>"
      ]
     },
     "metadata": {
      "image/png": {
       "height": 49,
       "width": 278
      }
     },
     "output_type": "display_data"
    },
    {
     "data": {
      "text/html": [
       "\n",
       "                <div id='midiPlayerDiv2670'></div>\n",
       "                <link rel=\"stylesheet\" href=\"//cuthbertLab.github.io/music21j/css/m21.css\"\n",
       "                    type=\"text/css\" />\n",
       "                <script>\n",
       "                require.config({\n",
       "                    paths: {'music21': '//cuthbertLab.github.io/music21j/src/music21'}\n",
       "                });\n",
       "                require(['music21'], function() {\n",
       "                               mp = new music21.miditools.MidiPlayer();\n",
       "                               mp.addPlayer('#midiPlayerDiv2670');\n",
       "                               mp.base64Load('data:audio/midi;base64,TVRoZAAAAAYAAQABBABNVHJrAAAAMgD/AwAA4ABAiACQSFqIAIBIAACQSFqIAIBIAACQT1qIAIBPAACQT1qIAIBPAIgA/y8A');\n",
       "                        });\n",
       "                </script>"
      ],
      "text/plain": [
       "<IPython.core.display.HTML object>"
      ]
     },
     "metadata": {},
     "output_type": "display_data"
    },
    {
     "data": {
      "text/plain": [
       "<music21.stream.Score mainScore>"
      ]
     },
     "execution_count": 21,
     "metadata": {},
     "output_type": "execute_result"
    }
   ],
   "source": [
    "s = '11|55|'\n",
    "str2stream(s)"
   ]
  },
  {
   "cell_type": "markdown",
   "metadata": {},
   "source": [
    "接下来是延长音、下划线(我不知道叫啥)以及附点"
   ]
  },
  {
   "cell_type": "code",
   "execution_count": 18,
   "metadata": {},
   "outputs": [
    {
     "data": {
      "image/png": "[encoded data removed]",
      "text/plain": [
       "<IPython.core.display.Image object>"
      ]
     },
     "metadata": {
      "image/png": {
       "height": 56,
       "width": 748
      }
     },
     "output_type": "display_data"
    },
    {
     "data": {
      "text/html": [
       "\n",
       "                <div id='midiPlayerDiv2354'></div>\n",
       "                <link rel=\"stylesheet\" href=\"//cuthbertLab.github.io/music21j/css/m21.css\"\n",
       "                    type=\"text/css\" />\n",
       "                <script>\n",
       "                require.config({\n",
       "                    paths: {'music21': '//cuthbertLab.github.io/music21j/src/music21'}\n",
       "                });\n",
       "                require(['music21'], function() {\n",
       "                               mp = new music21.miditools.MidiPlayer();\n",
       "                               mp.addPlayer('#midiPlayerDiv2354');\n",
       "                               mp.base64Load('data:audio/midi;base64,TVRoZAAAAAYAAQABBABNVHJrAAAA2wD/AwAA4ABAAP9YBAQCGAgAkExahACATAAAkE9ahACATwAAkFFakACAUQAAkExahACATAAAkE9ahACATwAAkEpamACASgAAkExahACATAAAkE9ahACATwAAkFFaiACAUQAAkFFagwCAUQAAkFRagwCAVAAAkFFaggCAUQAAkE9aggCATwAAkExaggCATAAAkFFaggCAUQAAkE9aggCATwAAkEpaggCASgAAkExaggCATAAAkEhaggCASAAAkEhaggCASAAAkExaggCATAAAkEpasACASgCIAP8vAA==');\n",
       "                        });\n",
       "                </script>"
      ],
      "text/plain": [
       "<IPython.core.display.HTML object>"
      ]
     },
     "metadata": {},
     "output_type": "display_data"
    },
    {
     "data": {
      "text/plain": [
       "<music21.stream.Score mainScore>"
      ]
     },
     "execution_count": 18,
     "metadata": {},
     "output_type": "execute_result"
    }
   ],
   "source": [
    "s = '<35>|6-<35>|2--<35>6<<6.[1].6536523113>>|2---'\n",
    "str2stream(s)"
   ]
  },
  {
   "cell_type": "markdown",
   "metadata": {},
   "source": [
    "可以看到延长音从-、--、--都是可以的。下划线的<>可以进行嵌套.附点的话会将前一个音的时间拉长一半。比如原来2响1秒钟，2.就是响1.5秒钟；2响0.75秒，2.就是1.075秒(0.75+0.375)。以此类推\n",
    "\n",
    "接下来是升降"
   ]
  },
  {
   "cell_type": "code",
   "execution_count": 54,
   "metadata": {},
   "outputs": [
    {
     "data": {
      "image/png": "[encoded data removed]",
      "text/plain": [
       "<IPython.core.display.Image object>"
      ]
     },
     "metadata": {
      "image/png": {
       "height": 57,
       "width": 748
      }
     },
     "output_type": "display_data"
    },
    {
     "data": {
      "text/html": [
       "\n",
       "                <div id='midiPlayerDiv9331'></div>\n",
       "                <link rel=\"stylesheet\" href=\"//cuthbertLab.github.io/music21j/css/m21.css\"\n",
       "                    type=\"text/css\" />\n",
       "                <script>\n",
       "                require.config({\n",
       "                    paths: {'music21': '//cuthbertLab.github.io/music21j/src/music21'}\n",
       "                });\n",
       "                require(['music21'], function() {\n",
       "                               mp = new music21.miditools.MidiPlayer();\n",
       "                               mp.addPlayer('#midiPlayerDiv9331');\n",
       "                               mp.base64Load('data:audio/midi;base64,TVRoZAAAAAYAAQABBABNVHJrAAAAaAD/AwAA4ABAiACQSFqIAIBIAACQSVqIAIBJAACQSlqIAIBKAACQS1qIAIBLAACQTVqIAIBNAACQTFqIAIBMAACQTVqIAIBNAACQTlqIAIBOAACQT1qIAIBPAACQUFqIAIBQAIgA/y8A');\n",
       "                        });\n",
       "                </script>"
      ],
      "text/plain": [
       "<IPython.core.display.HTML object>"
      ]
     },
     "metadata": {},
     "output_type": "display_data"
    },
    {
     "data": {
      "text/plain": [
       "<music21.stream.Score mainScore>"
      ]
     },
     "execution_count": 54,
     "metadata": {},
     "output_type": "execute_result"
    }
   ],
   "source": [
    "s = '1 1# 2 2# 3# 3 4 5b 5 6b'\n",
    "str2stream(s)"
   ]
  },
  {
   "cell_type": "markdown",
   "metadata": {},
   "source": [
    "其实这里不用空格，不过为了保持美观整洁，就把音符都空格开了\n",
    "\n",
    "最后是高音低音，就在音的外面套个括号就行了"
   ]
  },
  {
   "cell_type": "code",
   "execution_count": 10,
   "metadata": {},
   "outputs": [
    {
     "data": {
      "image/png": "[encoded data removed]",
      "text/plain": [
       "<IPython.core.display.Image object>"
      ]
     },
     "metadata": {
      "image/png": {
       "height": 78,
       "width": 748
      }
     },
     "output_type": "display_data"
    },
    {
     "data": {
      "text/html": [
       "\n",
       "                <div id='midiPlayerDiv967'></div>\n",
       "                <link rel=\"stylesheet\" href=\"//cuthbertLab.github.io/music21j/css/m21.css\"\n",
       "                    type=\"text/css\" />\n",
       "                <script>\n",
       "                require.config({\n",
       "                    paths: {'music21': '//cuthbertLab.github.io/music21j/src/music21'}\n",
       "                });\n",
       "                require(['music21'], function() {\n",
       "                               mp = new music21.miditools.MidiPlayer();\n",
       "                               mp.addPlayer('#midiPlayerDiv967');\n",
       "                               mp.base64Load('data:audio/midi;base64,TVRoZAAAAAYAAQABBABNVHJrAAAAVgD/AwAA4ABAiACQPFqIAIA8AACQVVqIAIBVAACQPlqEAIA+AACQP1qEAIA/AACQWFqIAIBYAACQWVqIAIBZAACQWFqIAIBYAACQW1qQAIBbAIgA/y8A');\n",
       "                        });\n",
       "                </script>"
      ],
      "text/plain": [
       "<IPython.core.display.HTML object>"
      ]
     },
     "metadata": {},
     "output_type": "display_data"
    },
    {
     "data": {
      "text/plain": [
       "<music21.stream.Score mainScore>"
      ]
     },
     "execution_count": 10,
     "metadata": {},
     "output_type": "execute_result"
    }
   ],
   "source": [
    "s = '(1) [#1] <(2 #2)> [3 #3 4 b5-] '\n",
    "str2stream(s)"
   ]
  },
  {
   "cell_type": "markdown",
   "metadata": {},
   "source": [
    "接下来是我已经写好了的几个谱子"
   ]
  },
  {
   "cell_type": "code",
   "execution_count": 5,
   "metadata": {},
   "outputs": [],
   "source": [
    "# 小星星\n",
    "star = '11|55|66|5-|44|33|22|1-|55|44|33|2-|55|44|33|2-|11|55|66|5-|44|33|22|1-'\n",
    "# 欢乐颂\n",
    "happy = '3345|5432|1123|3.<2>2-|3345|5432|1123|2.<1>1-|2231|2<34>31|2<34>32|12(5)3-|345|543<42>|1123|2.<1>1-'\n",
    "# 多年以后\n",
    "manyyears = '1<12>|3<34>|5<65>|3-|5<43>|2-|'\n",
    "manyyears += '4<32>|1-|1<12>|3<34>|5<65>|3-|'\n",
    "manyyears += '5<43>|2<32>|1-|1-|5<43>|2<(55)>|'\n",
    "manyyears += '4<32>|1-|5<43>|2<(55)>|4<32>|1-|'\n",
    "manyyears += '1<12>|3<34>|5<65>|3-|5<43>|2<32>|1-|1-'\n",
    "\n",
    "# 灵儿响叮当\n",
    "bring = '<33>3|<33>3|<351.<2>>|3-|<44>4|<43>3|<3223>|'\n",
    "bring += '25|<33>3|<33>3|<351.<2>>|3-|<44>4|<43>3|'\n",
    "bring += '<5542>|1-|<(5)321>|(5)-|<(5)321>|(6)-|<(6)432>|'\n",
    "bring += '(7)-|<5542>|3-|<(5)321>|(5)-|<(5)321>|(6)-|'\n",
    "bring += '<(6)432>|<55>5|<6542>|1-|<33>3|<33>3|<351.<2>>|'\n",
    "bring += '3-|<44>4|<43>3|<3223>|25|<33>3|<33>3|'\n",
    "bring += '<351.<2>>|3-|<44>4|<43>3|<5542>|1[1]'\n",
    "\n",
    "# 你和蔷薇一样美丽啊啊啊啊啊啊啊\n",
    "aaaa = '<<(67)>#1.<0>>|<<#1.(76)>>#4.|<#1(766<#4>)>|#1.<(7)>'\n",
    "aaaa +='<<(67)>#1.<0>>|<<#1.(76)>>#4.|<#1(766<#4>)>|#1.<(7)>'\n",
    "aaaa +='<<(67)>#13.>|<3#4#1<(76)>> |<0> |<<(67)>#13> |<3#4#1<(76)>>0'\n",
    "aaaa += '(<#4<0>67>)|<<1.(7.>6#4)>|#1.<2<#1>>(7)'\n",
    "\n",
    "aaaa +='<<(67)>#1.<0>>|<<#1.(76)>>#4.|<#1(766<#4>)>|#1.<(7)>'\n",
    "aaaa +='<<(67)>#1.<0>>|<<#1.(76)>>#4.|<#1(766<#4>)>|#1.<(7)>'\n",
    "aaaa +='<<(67)>#13.>|<3#4#1<(76)>> |<0> |<<(67)>#13> |<3#4#1<(7>6)>'\n",
    "aaaa +='<(6)<#13>#4.<0>3.#4#1(7. <0> 6<#467>6-)>'\n",
    "\n",
    "aaaa +='<#1(<7>6-#5<3>#5-673)3<2#>>1'\n",
    "aaaa +='<(6)#13#4-> | <3<#4#1>(7. 6<#467>6-)>'\n",
    "aaaa +='<(3)2#1(7<6>6)| <(3)2#1>(7<6>6.) | <(3)2#1>(7<6>6.) | <(3)2#1>(7<6>7.)>'\n",
    "aaaa +='<<(67)>#1#1|#3#1(<7>6-)| (6)#43#4|3#1(7>6)'\n",
    "aaaa +='<(6)<6#46>>|6---'\n"
   ]
  },
  {
   "cell_type": "code",
   "execution_count": 6,
   "metadata": {},
   "outputs": [
    {
     "data": {
      "image/png": "[encoded data removed]",
      "text/plain": [
       "<IPython.core.display.Image object>"
      ]
     },
     "metadata": {
      "image/png": {
       "height": 573,
       "width": 753
      }
     },
     "output_type": "display_data"
    },
    {
     "data": {
      "text/html": [
       "\n",
       "                <div id='midiPlayerDiv1340'></div>\n",
       "                <link rel=\"stylesheet\" href=\"//cuthbertLab.github.io/music21j/css/m21.css\"\n",
       "                    type=\"text/css\" />\n",
       "                <script>\n",
       "                require.config({\n",
       "                    paths: {'music21': '//cuthbertLab.github.io/music21j/src/music21'}\n",
       "                });\n",
       "                require(['music21'], function() {\n",
       "                               mp = new music21.miditools.MidiPlayer();\n",
       "                               mp.addPlayer('#midiPlayerDiv1340');\n",
       "                               mp.base64Load('data:audio/midi;base64,TVRoZAAAAAYAAQABBABNVHJrAAACRQD/AwAA4ABAiACQTFqIAIBMAACQTFqIAIBMAACQTVqIAIBNAACQT1qIAIBPAACQT1qIAIBPAACQTVqIAIBNAACQTFqIAIBMAACQSlqIAIBKAACQSFqIAIBIAACQSFqIAIBIAACQSlqIAIBKAACQTFqIAIBMAACQTFqMAIBMAACQSlqEAIBKAACQSlqQAIBKAACQTFqIAIBMAACQTFqIAIBMAACQTVqIAIBNAACQT1qIAIBPAACQT1qIAIBPAACQTVqIAIBNAACQTFqIAIBMAACQSlqIAIBKAACQSFqIAIBIAACQSFqIAIBIAACQSlqIAIBKAACQTFqIAIBMAACQSlqMAIBKAACQSFqEAIBIAACQSFqQAIBIAACQSlqIAIBKAACQSlqIAIBKAACQTFqIAIBMAACQSFqIAIBIAACQSlqIAIBKAACQTFqEAIBMAACQTVqEAIBNAACQTFqIAIBMAACQSFqIAIBIAACQSlqIAIBKAACQTFqEAIBMAACQTVqEAIBNAACQTFqIAIBMAACQSlqIAIBKAACQSFqIAIBIAACQSlqIAIBKAACQQ1qIAIBDAACQTFqQAIBMAACQTFqIAIBMAACQTVqIAIBNAACQT1qIAIBPAACQT1qIAIBPAACQTVqIAIBNAACQTFqIAIBMAACQTVqEAIBNAACQSlqEAIBKAACQSFqIAIBIAACQSFqIAIBIAACQSlqIAIBKAACQTFqIAIBMAACQSlqMAIBKAACQSFqEAIBIAACQSFqQAIBIAIgA/y8A');\n",
       "                        });\n",
       "                </script>"
      ],
      "text/plain": [
       "<IPython.core.display.HTML object>"
      ]
     },
     "metadata": {},
     "output_type": "display_data"
    }
   ],
   "source": [
    "s = str2stream(happy)"
   ]
  },
  {
   "cell_type": "code",
   "execution_count": 13,
   "metadata": {},
   "outputs": [],
   "source": [
    "path = r'.\\happy.mid' \n",
    "wv = s.write('midi', fp=path)"
   ]
  },
  {
   "cell_type": "markdown",
   "metadata": {},
   "source": [
    "### 随机生成乐谱\n",
    "使用random的方式，将每个音符分为两部分的组合，进行乐谱生成。\n",
    "- random一个音符，[1,7]\n",
    "- random是否要有`[ , ( ， < `，有的话做相应的记录，has_high，has_low, has_fast。其中前两个排斥，都和最后一个不排斥。\n",
    "- 如果上述三个存在一个是True，那么下一个音符就要相应的用随机数来生成另一半。\n",
    "- 4个音符一小节，最后一小节把前面所有的有has_high，has_low, has_fast的都给补上\n",
    "- 每个音符随机判断是否有`# , b , - , .`"
   ]
  },
  {
   "cell_type": "code",
   "execution_count": 6,
   "metadata": {},
   "outputs": [],
   "source": [
    "tone_list = ['1','2','3','4','5','6','7']\n",
    "\n",
    "import random\n",
    "'''\n",
    "Summary:\n",
    "    制作一个音调\n",
    "'''\n",
    "def MakeStrTone():\n",
    "    # 随机选择音调\n",
    "    tone = random.choice(tone_list) \n",
    "    \n",
    "    # 是否高低\n",
    "    # if random.randint(0, 1) == 0:\n",
    "    \n",
    "    if random.randint(0, 1) == 0:\n",
    "        if random.randint(0, 1) == 0:\n",
    "            tone = tone+'#'\n",
    "        else:\n",
    "            tone = tone+'b'\n",
    "        \n",
    "        \n",
    "    # 没有被高音\n",
    "    if has_high == False:\n",
    "        # 添加高音\n",
    "        if random.randint(0, 1) == 0:\n",
    "            tone = '['+tone\n",
    "            has_high = True\n",
    "    # 没有被低音\n",
    "    elif has_high == False and has_low == False:\n",
    "    #if has_low == False:\n",
    "        # 添加低音\n",
    "        if random.randint(0, 1) == 0:\n",
    "            tone = '('+tone\n",
    "            has_low = True\n",
    "    else:\n",
    "        if has_high == True:\n",
    "            # 去掉高音\n",
    "            if random.randint(0, 1) == 0:\n",
    "                tone = tone+']'\n",
    "                has_high = False\n",
    "        elif has_low == True:\n",
    "            # 去掉低音\n",
    "            if random.randint(0, 1) == 0:\n",
    "                tone = tone+')'\n",
    "                has_low = False       \n",
    "    # 没有被加快\n",
    "    if has_fast == False:\n",
    "        # 添加高音\n",
    "        if random.randint(0, 1) == 0:\n",
    "            tone = '<'+tone\n",
    "            has_fast = True\n",
    "    # 被加快了\n",
    "    else:\n",
    "        # 降下来\n",
    "        if random.randint(0, 1) == 0:\n",
    "            tone = tone+'>'\n",
    "            has_fast = False\n",
    "    \n",
    "    return tone, has_high, has_low, has_fast\n",
    "\n",
    "\n",
    "\n",
    "'''\n",
    "Summary:\n",
    "    制作一个音调\n",
    "'''\n",
    "def MakeStrTone2():\n",
    "    # 随机选择音调\n",
    "    tone = random.choice(tone_list) \n",
    "    \n",
    "    # 是否升降\n",
    "    if random.randint(0, 1) == 0 and tone not in ['3','7']:\n",
    "        pan = random.randint(0, 2)\n",
    "        if pan == 0:\n",
    "            tone = tone+'#'\n",
    "        \n",
    "    # 是否高低\n",
    "    if random.randint(0, 1) == 0:\n",
    "        pan = random.randint(0, 2)\n",
    "        if pan == 0:\n",
    "            tone = '['+tone+']'\n",
    "        elif pan == 1:\n",
    "            tone = '('+tone+')'\n",
    "    \n",
    "    # 是否延长/缩短\n",
    "    if random.randint(0, 1) == 0:\n",
    "        pan = random.randint(0, 1)\n",
    "        # 延长\n",
    "        if pan == 0:\n",
    "            # 0是 1是- 2是-- 3是---\n",
    "            pan = random.randint(0, 3)\n",
    "            if pan == 1:\n",
    "                tone =  tone + '-'\n",
    "            elif pan == 2:\n",
    "                tone =  tone + '--'\n",
    "            elif pan == 3:\n",
    "                tone =  tone + '---'\n",
    "        else:\n",
    "            tone = '<'+ tone + '>'\n",
    "            pan = random.randint(0, 2)\n",
    "            if pan == 0:\n",
    "                tone = '<'+ tone + '>'\n",
    "            elif pan == 1:\n",
    "                tone = tone + '.'\n",
    "                \n",
    "        \n",
    "    \n",
    "    return tone\n",
    "    \n",
    "'''\n",
    "Summary:\n",
    "    制作一个谱子\n",
    "'''\n",
    "def MakeStrScore(tones_num=10):\n",
    "    has_high,has_low, has_fast = False,False,False\n",
    "    Score = ''\n",
    "#     for i in range(tones_num):\n",
    "#         tone, has_high, has_low, has_fast = MakeStrTone( has_high,has_low, has_fast)\n",
    "#         Score += tone\n",
    "#         if i%4 == 0:\n",
    "#             Score += '|'\n",
    "#     if has_high == True:\n",
    "#         Score = Score+']'\n",
    "#     if has_low == True:\n",
    "#         Score = Score+')'\n",
    "#     if has_fast == True:\n",
    "#         Score = Score+'>'\n",
    "#     print(Score)\n",
    "    ScoreList = []\n",
    "    for i in range(tones_num):\n",
    "        mytone = MakeStrTone2() \n",
    "        Score += mytone\n",
    "        ScoreList.append(str2tone(mytone))\n",
    "        if i%4 == 0:Score += '|'\n",
    "    return Score,ScoreList\n"
   ]
  },
  {
   "cell_type": "code",
   "execution_count": 11,
   "metadata": {},
   "outputs": [],
   "source": [
    "string_s,string_list = MakeStrScore(20)"
   ]
  },
  {
   "cell_type": "code",
   "execution_count": 12,
   "metadata": {},
   "outputs": [
    {
     "data": {
      "text/plain": [
       "('5|7-21<(5#)>|5--<6>1--[5]|<<3>>2--<6>.6|31---(6#)---4|7(7)---5',\n",
       " ['G5',\n",
       "  'B5',\n",
       "  'D5',\n",
       "  'C5',\n",
       "  'G4#',\n",
       "  'G5',\n",
       "  'A5',\n",
       "  'C5',\n",
       "  'G6',\n",
       "  'E5',\n",
       "  'D5',\n",
       "  'A5',\n",
       "  'A5',\n",
       "  'E5',\n",
       "  'C5',\n",
       "  'A4#',\n",
       "  'F5',\n",
       "  'B5',\n",
       "  'B4',\n",
       "  'G5'])"
      ]
     },
     "execution_count": 12,
     "metadata": {},
     "output_type": "execute_result"
    }
   ],
   "source": [
    "string_s,string_list"
   ]
  },
  {
   "cell_type": "code",
   "execution_count": 49,
   "metadata": {},
   "outputs": [
    {
     "data": {
      "image/png": "[encoded data removed]",
      "text/plain": [
       "<IPython.core.display.Image object>"
      ]
     },
     "metadata": {
      "image/png": {
       "height": 81,
       "width": 748
      }
     },
     "output_type": "display_data"
    },
    {
     "data": {
      "text/html": [
       "\n",
       "                <div id='midiPlayerDiv9005'></div>\n",
       "                <link rel=\"stylesheet\" href=\"//cuthbertLab.github.io/music21j/css/m21.css\"\n",
       "                    type=\"text/css\" />\n",
       "                <script>\n",
       "                require.config({\n",
       "                    paths: {'music21': '//cuthbertLab.github.io/music21j/src/music21'}\n",
       "                });\n",
       "                require(['music21'], function() {\n",
       "                               mp = new music21.miditools.MidiPlayer();\n",
       "                               mp.addPlayer('#midiPlayerDiv9005');\n",
       "                               mp.base64Load('data:audio/midi;base64,TVRoZAAAAAYAAQABBABNVHJrAAAAwgD/AwAA4ABAiACQTFqIAIBMAACQT1qIAIBPAACQXFqCAIBcAACQPlqIAIA+AACQUVqIAIBRAACQT1qIAIBPAACQU1qYAIBTAACQW1qEAIBbAACQU1qIAIBTAACQTFqIAIBMAACQTVqIAIBNAACQSFqIAIBIAACQS1qIAIBLAACQTFqGAIBMAACQUVqGAIBRAACQSFqGAIBIAACQVVqGAIBVAACQSlqEAIBKAACQWFqGAIBYAACQTFqIAIBMAIgA/y8A');\n",
       "                        });\n",
       "                </script>"
      ],
      "text/plain": [
       "<IPython.core.display.HTML object>"
      ]
     },
     "metadata": {},
     "output_type": "display_data"
    }
   ],
   "source": [
    "s = str2stream(string_s)"
   ]
  },
  {
   "cell_type": "code",
   "execution_count": 13,
   "metadata": {},
   "outputs": [],
   "source": [
    "writemusic(s,'test.mid')"
   ]
  },
  {
   "cell_type": "code",
   "execution_count": 57,
   "metadata": {},
   "outputs": [],
   "source": [
    "import datetime\n",
    "import pickle\n",
    "import time\n",
    "import os\n",
    "import shutil \n",
    "\n",
    "\n",
    "'''\n",
    "Summary\n",
    "    保存为音频数据\n",
    "'''\n",
    "def writemusic(s,path):\n",
    "    #path = r'.\\happy.mid' \n",
    "    s.write('midi', fp=path)\n",
    "    \n",
    "\n",
    "'''\n",
    "Summary:\n",
    "    制作数据集\n",
    "Parameters:\n",
    "    datas_num - 要制作的数据集的数量 int\n",
    "'''\n",
    "from shutil import copyfile,rmtree\n",
    "def MakeDataSet(datas_num):\n",
    "    nowtime = time.strftime(\"%Y-%m-%d_%H_%M_%S\", time.localtime())\n",
    "    dirname = nowtime[:-3]\n",
    "    if os.path.exists('./wavDatasets/'+dirname):\n",
    "        rmtree('./wavDatasets/'+dirname)\n",
    "    if os.path.exists('./midiDatasets/'+dirname):\n",
    "        rmtree('./midiDatasets/'+dirname)\n",
    "    os.mkdir('./wavDatasets/'+dirname)\n",
    "    os.mkdir('./midiDatasets/'+dirname)\n",
    "    \n",
    "    music_dic = {}\n",
    "    for i in range(datas_num):\n",
    "        string_s,string_list = MakeStrScore(20)\n",
    "        file = nowtime+'_'+str(i)\n",
    "        print(file)\n",
    "        s = str2stream(string_s,False)\n",
    "        writemusic(s,'./midiDatasets/{0}/{1}.mid'.format(dirname,file))\n",
    "        music_dic[file] = string_list\n",
    "        #path = 'midiDatasets\\'+ datetime.datetime.now().strftime('%Y-%m-%d')\n",
    "    \n",
    "   \n",
    "    \n",
    "    data_output = open('./wavDatasets/{0}/music_dic.pkl'.format(dirname),'wb')\n",
    "    pickle.dump(music_dic,data_output)\n",
    "    data_output.close()\n",
    "    print('java -jar midi2wav.jar ./midiDatasets/{0}'.format(dirname))\n",
    "    os.system('java -jar midi2wav.jar ./midiDatasets/{0}'.format(dirname))\n",
    "    for file in os.listdir('./midiDatasets/{0}'.format(dirname)):\n",
    "        if file.find('.wav')>0: \n",
    "            copyfile('./midiDatasets/{0}/{1}'.format(dirname,file), './wavDatasets/{0}/{1}'.format(dirname,file))\n",
    "            os.remove('./midiDatasets/{0}/{1}'.format(dirname,file))\n",
    "            \n",
    "    return music_dic\n",
    "#     import time\n",
    "\n",
    "# # 格式化成2016-03-20 11:45:39形式\n",
    "# print (time.strftime(\"%Y-%m-%d_%H:%M:%S\", time.localtime()))\n",
    "#     import pickle\n",
    "# import numpy as np\n",
    "\n",
    "# your_data = np.ones((4,5),np.uint8)\n",
    "# # wb 以二进制写入\n",
    "# data_output = open('data.pkl','wb')\n",
    "# pickle.dump(your_data,data_output)\n",
    "# data_output.close()\n",
    "\n",
    "# # rb 以二进制读取\n",
    "# data_input = opne('data.pkl','rb')\n",
    "# read_data = pickle.load(data_input)\n",
    "# data_input.close(）\n",
    "def GetMusicDic():\n",
    "    with open('./wavDatasets/music_dic.pkl', 'rb') as file:\n",
    "        music_dic = pickle.load(file)\n",
    "    return music_dic\n",
    "        "
   ]
  },
  {
   "cell_type": "code",
   "execution_count": 58,
   "metadata": {},
   "outputs": [
    {
     "name": "stdout",
     "output_type": "stream",
     "text": [
      "2020-05-26_16_56_15_0\n",
      "2020-05-26_16_56_15_1\n",
      "2020-05-26_16_56_15_2\n",
      "2020-05-26_16_56_15_3\n",
      "2020-05-26_16_56_15_4\n",
      "2020-05-26_16_56_15_5\n",
      "2020-05-26_16_56_15_6\n",
      "2020-05-26_16_56_15_7\n",
      "2020-05-26_16_56_15_8\n",
      "2020-05-26_16_56_15_9\n",
      "java -jar midi2wav.jar ./midiDatasets/2020-05-26_16_56\n"
     ]
    }
   ],
   "source": [
    "d = MakeDataSet(10)"
   ]
  },
  {
   "cell_type": "code",
   "execution_count": 28,
   "metadata": {},
   "outputs": [
    {
     "data": {
      "text/plain": [
       "'2020-05-26_16'"
      ]
     },
     "execution_count": 28,
     "metadata": {},
     "output_type": "execute_result"
    }
   ],
   "source": [
    "time.strftime(\"%Y-%m-%d_%H_%M \", time.localtime())[:-4]"
   ]
  },
  {
   "cell_type": "code",
   "execution_count": 66,
   "metadata": {},
   "outputs": [
    {
     "name": "stdout",
     "output_type": "stream",
     "text": [
      "C4\n",
      "G5\n",
      "D5\n",
      "F5\n",
      "D4\n",
      "D6b\n",
      "G5\n",
      "B6b\n",
      "D5#\n",
      "E5#\n",
      "B5\n",
      "G5\n",
      "B4\n",
      "D5\n",
      "A5#\n",
      "G5#\n",
      "C5\n",
      "F6#\n",
      "G5\n",
      "B5#\n"
     ]
    }
   ],
   "source": [
    "for value in v:\n",
    "    print(str2tone(value))"
   ]
  },
  {
   "cell_type": "code",
   "execution_count": 35,
   "metadata": {},
   "outputs": [],
   "source": [
    "writemusic(s,r'.\\random.mid')"
   ]
  },
  {
   "cell_type": "code",
   "execution_count": null,
   "metadata": {},
   "outputs": [],
   "source": [
    "import wave"
   ]
  },
  {
   "cell_type": "code",
   "execution_count": null,
   "metadata": {},
   "outputs": [],
   "source": [
    "path = r'.\\star.mid' \n",
    "wv = wave.open(path, 'r')"
   ]
  },
  {
   "cell_type": "code",
   "execution_count": null,
   "metadata": {},
   "outputs": [],
   "source": [
    "from midi2audio import FluidSynth"
   ]
  },
  {
   "cell_type": "code",
   "execution_count": null,
   "metadata": {},
   "outputs": [],
   "source": [
    "fs = FluidSynth()"
   ]
  },
  {
   "cell_type": "code",
   "execution_count": null,
   "metadata": {},
   "outputs": [],
   "source": [
    "fs.midi_to_audio(path, 'output.wav')"
   ]
  },
  {
   "cell_type": "code",
   "execution_count": 9,
   "metadata": {},
   "outputs": [
    {
     "data": {
      "image/png": "[encoded data removed]",
      "text/plain": [
       "<IPython.core.display.Image object>"
      ]
     },
     "metadata": {
      "image/png": {
       "height": 70,
       "width": 748
      }
     },
     "output_type": "display_data"
    },
    {
     "data": {
      "text/html": [
       "\n",
       "                <div id='midiPlayerDiv1159'></div>\n",
       "                <link rel=\"stylesheet\" href=\"//cuthbertLab.github.io/music21j/css/m21.css\"\n",
       "                    type=\"text/css\" />\n",
       "                <script>\n",
       "                require.config({\n",
       "                    paths: {'music21': '//cuthbertLab.github.io/music21j/src/music21'}\n",
       "                });\n",
       "                require(['music21'], function() {\n",
       "                               mp = new music21.miditools.MidiPlayer();\n",
       "                               mp.addPlayer('#midiPlayerDiv1159');\n",
       "                               mp.base64Load('data:audio/midi;base64,TVRoZAAAAAYAAQABBABNVHJrAAAAegD/AwAA4ABAiACQVFqIAIBUAACQVFqIAIBUAACQW1qIAIBbAACQW1qIAIBbAACQVFqIAIBUAACQVFqIAIBUAACQW1qIAIBbAACQW1qIAIBbAACQVFqIAIBUAACQVFqIAIBUAACQW1qIAIBbAACQW1qYAIBbAIgA/y8A');\n",
       "                        });\n",
       "                </script>"
      ],
      "text/plain": [
       "<IPython.core.display.HTML object>"
      ]
     },
     "metadata": {},
     "output_type": "display_data"
    },
    {
     "data": {
      "text/plain": [
       "<music21.stream.Score mainScore>"
      ]
     },
     "execution_count": 9,
     "metadata": {},
     "output_type": "execute_result"
    }
   ],
   "source": [
    "s1 = '[11|5511|5511|55]--'\n",
    "str2stream(s1)"
   ]
  },
  {
   "cell_type": "code",
   "execution_count": 11,
   "metadata": {},
   "outputs": [
    {
     "data": {
      "image/png": "[encoded data removed]",
      "text/plain": [
       "<IPython.core.display.Image object>"
      ]
     },
     "metadata": {
      "image/png": {
       "height": 49,
       "width": 748
      }
     },
     "output_type": "display_data"
    },
    {
     "data": {
      "text/html": [
       "\n",
       "                <div id='midiPlayerDiv1633'></div>\n",
       "                <link rel=\"stylesheet\" href=\"//cuthbertLab.github.io/music21j/css/m21.css\"\n",
       "                    type=\"text/css\" />\n",
       "                <script>\n",
       "                require.config({\n",
       "                    paths: {'music21': '//cuthbertLab.github.io/music21j/src/music21'}\n",
       "                });\n",
       "                require(['music21'], function() {\n",
       "                               mp = new music21.miditools.MidiPlayer();\n",
       "                               mp.addPlayer('#midiPlayerDiv1633');\n",
       "                               mp.base64Load('data:audio/midi;base64,TVRoZAAAAAYAAQABBABNVHJrAAAAegD/AwAA4ABAiACQSFqIAIBIAACQSFqIAIBIAACQT1qIAIBPAACQT1qIAIBPAACQSFqIAIBIAACQSFqIAIBIAACQT1qIAIBPAACQT1qIAIBPAACQSFqIAIBIAACQSFqIAIBIAACQT1qIAIBPAACQT1qwAIBPAIgA/y8A');\n",
       "                        });\n",
       "                </script>"
      ],
      "text/plain": [
       "<IPython.core.display.HTML object>"
      ]
     },
     "metadata": {},
     "output_type": "display_data"
    },
    {
     "data": {
      "text/plain": [
       "<music21.stream.Score mainScore>"
      ]
     },
     "execution_count": 11,
     "metadata": {},
     "output_type": "execute_result"
    }
   ],
   "source": [
    "s1 = '11|5511|5511|55---'\n",
    "str2stream(s1)"
   ]
  },
  {
   "cell_type": "code",
   "execution_count": 28,
   "metadata": {},
   "outputs": [
    {
     "data": {
      "image/png": "[encoded data removed]",
      "text/plain": [
       "<IPython.core.display.Image object>"
      ]
     },
     "metadata": {
      "image/png": {
       "height": 49,
       "width": 144
      }
     },
     "output_type": "display_data"
    },
    {
     "data": {
      "text/html": [
       "\n",
       "                <div id='midiPlayerDiv1930'></div>\n",
       "                <link rel=\"stylesheet\" href=\"//cuthbertLab.github.io/music21j/css/m21.css\"\n",
       "                    type=\"text/css\" />\n",
       "                <script>\n",
       "                require.config({\n",
       "                    paths: {'music21': '//cuthbertLab.github.io/music21j/src/music21'}\n",
       "                });\n",
       "                require(['music21'], function() {\n",
       "                               mp = new music21.miditools.MidiPlayer();\n",
       "                               mp.addPlayer('#midiPlayerDiv1930');\n",
       "                               mp.base64Load('data:audio/midi;base64,TVRoZAAAAAYAAQABBABNVHJrAAAAFwD/AwAA4ABAiACQT1qQAIBPAIgA/y8A');\n",
       "                        });\n",
       "                </script>"
      ],
      "text/plain": [
       "<IPython.core.display.HTML object>"
      ]
     },
     "metadata": {},
     "output_type": "display_data"
    }
   ],
   "source": [
    "s1 = '5-'\n",
    "stream1 = str2stream(s1)"
   ]
  },
  {
   "cell_type": "code",
   "execution_count": 29,
   "metadata": {},
   "outputs": [
    {
     "data": {
      "image/png": "[encoded data removed]",
      "text/plain": [
       "<IPython.core.display.Image object>"
      ]
     },
     "metadata": {
      "image/png": {
       "height": 49,
       "width": 160
      }
     },
     "output_type": "display_data"
    },
    {
     "data": {
      "text/html": [
       "\n",
       "                <div id='midiPlayerDiv1958'></div>\n",
       "                <link rel=\"stylesheet\" href=\"//cuthbertLab.github.io/music21j/css/m21.css\"\n",
       "                    type=\"text/css\" />\n",
       "                <script>\n",
       "                require.config({\n",
       "                    paths: {'music21': '//cuthbertLab.github.io/music21j/src/music21'}\n",
       "                });\n",
       "                require(['music21'], function() {\n",
       "                               mp = new music21.miditools.MidiPlayer();\n",
       "                               mp.addPlayer('#midiPlayerDiv1958');\n",
       "                               mp.base64Load('data:audio/midi;base64,TVRoZAAAAAYAAQABBABNVHJrAAAAFwD/AwAA4ABAiACQT1qYAIBPAIgA/y8A');\n",
       "                        });\n",
       "                </script>"
      ],
      "text/plain": [
       "<IPython.core.display.HTML object>"
      ]
     },
     "metadata": {},
     "output_type": "display_data"
    }
   ],
   "source": [
    "s1 = '5--'\n",
    "stream1 = str2stream(s1)"
   ]
  },
  {
   "cell_type": "code",
   "execution_count": 15,
   "metadata": {},
   "outputs": [
    {
     "data": {
      "image/png": "[encoded data removed]",
      "text/plain": [
       "<IPython.core.display.Image object>"
      ]
     },
     "metadata": {
      "image/png": {
       "height": 53,
       "width": 219
      }
     },
     "output_type": "display_data"
    },
    {
     "data": {
      "text/html": [
       "\n",
       "                <div id='midiPlayerDiv1830'></div>\n",
       "                <link rel=\"stylesheet\" href=\"//cuthbertLab.github.io/music21j/css/m21.css\"\n",
       "                    type=\"text/css\" />\n",
       "                <script>\n",
       "                require.config({\n",
       "                    paths: {'music21': '//cuthbertLab.github.io/music21j/src/music21'}\n",
       "                });\n",
       "                require(['music21'], function() {\n",
       "                               mp = new music21.miditools.MidiPlayer();\n",
       "                               mp.addPlayer('#midiPlayerDiv1830');\n",
       "                               mp.base64Load('data:audio/midi;base64,TVRoZAAAAAYAAQABBABNVHJrAAAAIAD/AwAA4ABAiACQT1qMAIBPAACQT1qwAIBPAIgA/y8A');\n",
       "                        });\n",
       "                </script>"
      ],
      "text/plain": [
       "<IPython.core.display.HTML object>"
      ]
     },
     "metadata": {},
     "output_type": "display_data"
    }
   ],
   "source": [
    "s1 = '5.5---'\n",
    "stream2 = str2stream(s1)"
   ]
  },
  {
   "cell_type": "code",
   "execution_count": 17,
   "metadata": {},
   "outputs": [
    {
     "name": "stdout",
     "output_type": "stream",
     "text": [
      "{1.0} <music21.stream.Measure 1 offset=1.0>\n",
      "    {0.0} <music21.note.Note G>\n"
     ]
    }
   ],
   "source": [
    "stream1.show('text')"
   ]
  },
  {
   "cell_type": "code",
   "execution_count": 18,
   "metadata": {},
   "outputs": [
    {
     "name": "stdout",
     "output_type": "stream",
     "text": [
      "{1.0} <music21.stream.Measure 1 offset=1.0>\n",
      "    {0.0} <music21.note.Note G>\n",
      "    {1.5} <music21.note.Note G>\n"
     ]
    }
   ],
   "source": [
    "stream2.show('text')"
   ]
  },
  {
   "cell_type": "code",
   "execution_count": 24,
   "metadata": {},
   "outputs": [
    {
     "data": {
      "text/plain": [
       "<music21.duration.Duration 6.0>"
      ]
     },
     "execution_count": 24,
     "metadata": {},
     "output_type": "execute_result"
    }
   ],
   "source": [
    "stream1[0][0].duration"
   ]
  },
  {
   "cell_type": "code",
   "execution_count": 25,
   "metadata": {},
   "outputs": [
    {
     "data": {
      "text/plain": [
       "<music21.duration.Duration 6.0>"
      ]
     },
     "execution_count": 25,
     "metadata": {},
     "output_type": "execute_result"
    }
   ],
   "source": [
    "stream2[0][1].duration"
   ]
  },
  {
   "cell_type": "code",
   "execution_count": 33,
   "metadata": {},
   "outputs": [
    {
     "data": {
      "image/png": "[encoded data removed]",
      "text/plain": [
       "<IPython.core.display.Image object>"
      ]
     },
     "metadata": {
      "image/png": {
       "height": 49,
       "width": 189
      }
     },
     "output_type": "display_data"
    },
    {
     "data": {
      "text/html": [
       "\n",
       "                <div id='midiPlayerDiv2154'></div>\n",
       "                <link rel=\"stylesheet\" href=\"//cuthbertLab.github.io/music21j/css/m21.css\"\n",
       "                    type=\"text/css\" />\n",
       "                <script>\n",
       "                require.config({\n",
       "                    paths: {'music21': '//cuthbertLab.github.io/music21j/src/music21'}\n",
       "                });\n",
       "                require(['music21'], function() {\n",
       "                               mp = new music21.miditools.MidiPlayer();\n",
       "                               mp.addPlayer('#midiPlayerDiv2154');\n",
       "                               mp.base64Load('data:audio/midi;base64,TVRoZAAAAAYAAQABBABNVHJrAAAAIAD/AwAA4ABAiACQT1qMAIBPAACQT1qQAIBPAIgA/y8A');\n",
       "                        });\n",
       "                </script>"
      ],
      "text/plain": [
       "<IPython.core.display.HTML object>"
      ]
     },
     "metadata": {},
     "output_type": "display_data"
    }
   ],
   "source": [
    "s1 = '5.5-'\n",
    "stream1 = str2stream(s1)"
   ]
  },
  {
   "cell_type": "code",
   "execution_count": 49,
   "metadata": {},
   "outputs": [
    {
     "data": {
      "image/png": "[encoded data removed]",
      "text/plain": [
       "<IPython.core.display.Image object>"
      ]
     },
     "metadata": {
      "image/png": {
       "height": 53,
       "width": 219
      }
     },
     "output_type": "display_data"
    },
    {
     "data": {
      "text/html": [
       "\n",
       "                <div id='midiPlayerDiv2324'></div>\n",
       "                <link rel=\"stylesheet\" href=\"//cuthbertLab.github.io/music21j/css/m21.css\"\n",
       "                    type=\"text/css\" />\n",
       "                <script>\n",
       "                require.config({\n",
       "                    paths: {'music21': '//cuthbertLab.github.io/music21j/src/music21'}\n",
       "                });\n",
       "                require(['music21'], function() {\n",
       "                               mp = new music21.miditools.MidiPlayer();\n",
       "                               mp.addPlayer('#midiPlayerDiv2324');\n",
       "                               mp.base64Load('data:audio/midi;base64,TVRoZAAAAAYAAQABBABNVHJrAAAAIAD/AwAA4ABAiACQT1qMAIBPAACQT1qYAIBPAIgA/y8A');\n",
       "                        });\n",
       "                </script>"
      ],
      "text/plain": [
       "<IPython.core.display.HTML object>"
      ]
     },
     "metadata": {},
     "output_type": "display_data"
    }
   ],
   "source": [
    "s1 = '5.5--'\n",
    "stream2 = str2stream(s1)"
   ]
  },
  {
   "cell_type": "code",
   "execution_count": 50,
   "metadata": {},
   "outputs": [
    {
     "data": {
      "image/png": "[encoded data removed]",
      "text/plain": [
       "<IPython.core.display.Image object>"
      ]
     },
     "metadata": {
      "image/png": {
       "height": 53,
       "width": 219
      }
     },
     "output_type": "display_data"
    },
    {
     "data": {
      "text/html": [
       "\n",
       "                <div id='midiPlayerDiv2379'></div>\n",
       "                <link rel=\"stylesheet\" href=\"//cuthbertLab.github.io/music21j/css/m21.css\"\n",
       "                    type=\"text/css\" />\n",
       "                <script>\n",
       "                require.config({\n",
       "                    paths: {'music21': '//cuthbertLab.github.io/music21j/src/music21'}\n",
       "                });\n",
       "                require(['music21'], function() {\n",
       "                               mp = new music21.miditools.MidiPlayer();\n",
       "                               mp.addPlayer('#midiPlayerDiv2379');\n",
       "                               mp.base64Load('data:audio/midi;base64,TVRoZAAAAAYAAQABBABNVHJrAAAAIAD/AwAA4ABAiACQT1qMAIBPAACQT1qwAIBPAIgA/y8A');\n",
       "                        });\n",
       "                </script>"
      ],
      "text/plain": [
       "<IPython.core.display.HTML object>"
      ]
     },
     "metadata": {},
     "output_type": "display_data"
    }
   ],
   "source": [
    "s1 = '5.5---'\n",
    "stream3 = str2stream(s1)"
   ]
  },
  {
   "cell_type": "code",
   "execution_count": 48,
   "metadata": {},
   "outputs": [
    {
     "data": {
      "text/plain": [
       "3.0"
      ]
     },
     "execution_count": 48,
     "metadata": {},
     "output_type": "execute_result"
    }
   ],
   "source": [
    "stream2[0][1].duration.quarterLength"
   ]
  },
  {
   "cell_type": "code",
   "execution_count": 47,
   "metadata": {},
   "outputs": [
    {
     "data": {
      "text/plain": [
       "6.0"
      ]
     },
     "execution_count": 47,
     "metadata": {},
     "output_type": "execute_result"
    }
   ],
   "source": [
    "stream3[0][1].duration.quarterLength"
   ]
  },
  {
   "cell_type": "code",
   "execution_count": 40,
   "metadata": {},
   "outputs": [
    {
     "name": "stdout",
     "output_type": "stream",
     "text": [
      "{1.0} <music21.stream.Measure 1 offset=1.0>\n",
      "    {0.0} <music21.note.Note G>\n",
      "    {1.5} <music21.note.Note G>\n"
     ]
    }
   ],
   "source": [
    "stream2.show('text')"
   ]
  },
  {
   "cell_type": "code",
   "execution_count": 41,
   "metadata": {},
   "outputs": [
    {
     "name": "stdout",
     "output_type": "stream",
     "text": [
      "{1.0} <music21.stream.Measure 1 offset=1.0>\n",
      "    {0.0} <music21.note.Note G>\n",
      "    {1.5} <music21.note.Note G>\n"
     ]
    }
   ],
   "source": [
    "stream3.show('text')"
   ]
  },
  {
   "cell_type": "code",
   "execution_count": 44,
   "metadata": {},
   "outputs": [],
   "source": [
    "s1 = '5---'\n",
    "stream4 = str2stream(s1,False)"
   ]
  },
  {
   "cell_type": "code",
   "execution_count": 45,
   "metadata": {},
   "outputs": [
    {
     "data": {
      "text/plain": [
       "6.0"
      ]
     },
     "execution_count": 45,
     "metadata": {},
     "output_type": "execute_result"
    }
   ],
   "source": [
    "stream4[0][0].duration.quarterLength"
   ]
  },
  {
   "cell_type": "code",
   "execution_count": null,
   "metadata": {},
   "outputs": [],
   "source": []
  }
 ],
 "metadata": {
  "kernelspec": {
   "display_name": "Python 3",
   "language": "python",
   "name": "python3"
  },
  "language_info": {
   "codemirror_mode": {
    "name": "ipython",
    "version": 3
   },
   "file_extension": ".py",
   "mimetype": "text/x-python",
   "name": "python",
   "nbconvert_exporter": "python",
   "pygments_lexer": "ipython3",
   "version": "3.6.8"
  }
 },
 "nbformat": 4,
 "nbformat_minor": 4
}
